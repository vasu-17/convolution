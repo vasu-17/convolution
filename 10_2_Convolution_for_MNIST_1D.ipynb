{
 "cells": [
  {
   "cell_type": "markdown",
   "metadata": {
    "colab_type": "text",
    "id": "view-in-github"
   },
   "source": [
    "<a href=\"https://colab.research.google.com/github/udlbook/udlbook/blob/main/Notebooks/Chap10/10_2_Convolution_for_MNIST_1D.ipynb\" target=\"_parent\"><img src=\"https://colab.research.google.com/assets/colab-badge.svg\" alt=\"Open In Colab\"/></a>"
   ]
  },
  {
   "cell_type": "markdown",
   "metadata": {
    "id": "t9vk9Elugvmi"
   },
   "source": [
    "# **Notebook 10.2: Convolution for MNIST-1D**\n",
    "\n",
    "This notebook investigates a 1D convolutional network for MNIST-1D as in figure 10.7 and 10.8a.\n",
    "\n",
    "Work through the cells below, running each cell in turn. In various places you will see the words \"TO DO\". Follow the instructions at these places and make predictions about what is going to happen or write code to complete the functions.\n",
    "\n",
    "Contact me at udlbookmail@gmail.com if you find any mistakes or have any suggestions.\n",
    "\n"
   ]
  },
  {
   "cell_type": "code",
   "execution_count": 1,
   "metadata": {
    "id": "D5yLObtZCi9J"
   },
   "outputs": [
    {
     "name": "stdout",
     "output_type": "stream",
     "text": [
      "^C\n"
     ]
    },
    {
     "name": "stdout",
     "output_type": "stream",
     "text": [
      "Collecting git+https://github.com/greydanus/mnist1d\n",
      "  Cloning https://github.com/greydanus/mnist1d to c:\\users\\patel\\appdata\\local\\temp\\pip-req-build-hzmy7skk\n",
      "  Resolved https://github.com/greydanus/mnist1d to commit 7878d96082abd200c546a07a4101fa90b30fdf7e\n",
      "  Installing build dependencies: started\n",
      "  Installing build dependencies: finished with status 'done'\n",
      "  Getting requirements to build wheel: started\n",
      "  Getting requirements to build wheel: finished with status 'done'\n",
      "  Preparing metadata (pyproject.toml): started\n",
      "  Preparing metadata (pyproject.toml): finished with status 'done'\n",
      "Requirement already satisfied: requests in c:\\users\\patel\\appdata\\local\\programs\\python\\python312\\lib\\site-packages (from mnist1d==0.0.2.post16) (2.32.3)\n",
      "Requirement already satisfied: numpy in c:\\users\\patel\\appdata\\local\\programs\\python\\python312\\lib\\site-packages (from mnist1d==0.0.2.post16) (2.0.2)\n",
      "Requirement already satisfied: matplotlib in c:\\users\\patel\\appdata\\local\\programs\\python\\python312\\lib\\site-packages (from mnist1d==0.0.2.post16) (3.9.2)\n",
      "Requirement already satisfied: scipy in c:\\users\\patel\\appdata\\local\\programs\\python\\python312\\lib\\site-packages (from mnist1d==0.0.2.post16) (1.14.1)\n",
      "Requirement already satisfied: contourpy>=1.0.1 in c:\\users\\patel\\appdata\\local\\programs\\python\\python312\\lib\\site-packages (from matplotlib->mnist1d==0.0.2.post16) (1.3.0)\n",
      "Requirement already satisfied: cycler>=0.10 in c:\\users\\patel\\appdata\\local\\programs\\python\\python312\\lib\\site-packages (from matplotlib->mnist1d==0.0.2.post16) (0.12.1)\n",
      "Requirement already satisfied: fonttools>=4.22.0 in c:\\users\\patel\\appdata\\local\\programs\\python\\python312\\lib\\site-packages (from matplotlib->mnist1d==0.0.2.post16) (4.53.1)\n",
      "Requirement already satisfied: kiwisolver>=1.3.1 in c:\\users\\patel\\appdata\\local\\programs\\python\\python312\\lib\\site-packages (from matplotlib->mnist1d==0.0.2.post16) (1.4.5)\n",
      "Requirement already satisfied: packaging>=20.0 in c:\\users\\patel\\appdata\\roaming\\python\\python312\\site-packages (from matplotlib->mnist1d==0.0.2.post16) (24.1)\n",
      "Requirement already satisfied: pillow>=8 in c:\\users\\patel\\appdata\\local\\programs\\python\\python312\\lib\\site-packages (from matplotlib->mnist1d==0.0.2.post16) (10.4.0)\n",
      "Requirement already satisfied: pyparsing>=2.3.1 in c:\\users\\patel\\appdata\\local\\programs\\python\\python312\\lib\\site-packages (from matplotlib->mnist1d==0.0.2.post16) (3.1.4)\n",
      "Requirement already satisfied: python-dateutil>=2.7 in c:\\users\\patel\\appdata\\roaming\\python\\python312\\site-packages (from matplotlib->mnist1d==0.0.2.post16) (2.9.0.post0)\n",
      "Requirement already satisfied: charset-normalizer<4,>=2 in c:\\users\\patel\\appdata\\local\\programs\\python\\python312\\lib\\site-packages (from requests->mnist1d==0.0.2.post16) (3.3.2)\n",
      "Requirement already satisfied: idna<4,>=2.5 in c:\\users\\patel\\appdata\\local\\programs\\python\\python312\\lib\\site-packages (from requests->mnist1d==0.0.2.post16) (3.10)\n",
      "Requirement already satisfied: urllib3<3,>=1.21.1 in c:\\users\\patel\\appdata\\local\\programs\\python\\python312\\lib\\site-packages (from requests->mnist1d==0.0.2.post16) (2.2.3)\n",
      "Requirement already satisfied: certifi>=2017.4.17 in c:\\users\\patel\\appdata\\local\\programs\\python\\python312\\lib\\site-packages (from requests->mnist1d==0.0.2.post16) (2024.8.30)\n",
      "Requirement already satisfied: six>=1.5 in c:\\users\\patel\\appdata\\roaming\\python\\python312\\site-packages (from python-dateutil>=2.7->matplotlib->mnist1d==0.0.2.post16) (1.16.0)\n",
      "Building wheels for collected packages: mnist1d\n",
      "  Building wheel for mnist1d (pyproject.toml): started\n",
      "  Building wheel for mnist1d (pyproject.toml): finished with status 'done'\n",
      "  Created wheel for mnist1d: filename=mnist1d-0.0.2.post16-py3-none-any.whl size=14720 sha256=6f85b8b88576dcda3337f165c2bd903a3904f93370f8ab15de01dec44c2ed6e9\n",
      "  Stored in directory: C:\\Users\\patel\\AppData\\Local\\Temp\\pip-ephem-wheel-cache-9l4ai_rh\\wheels\\18\\40\\b6\\29381fee9b4c80fdbc304d52bb065a7286bbcca5ca2b8737c0\n",
      "Successfully built mnist1d\n",
      "Installing collected packages: mnist1d\n",
      "  Attempting uninstall: mnist1d\n",
      "    Found existing installation: mnist1d 0.0.2.post15\n",
      "    Uninstalling mnist1d-0.0.2.post15:\n",
      "      Successfully uninstalled mnist1d-0.0.2.post15\n",
      "Successfully installed mnist1d-0.0.2.post16\n"
     ]
    },
    {
     "name": "stderr",
     "output_type": "stream",
     "text": [
      "  Running command git clone --filter=blob:none --quiet https://github.com/greydanus/mnist1d 'C:\\Users\\patel\\AppData\\Local\\Temp\\pip-req-build-hzmy7skk'\n"
     ]
    }
   ],
   "source": [
    "# Run this if you're in a Colab to install MNIST 1D repository\n",
    "!pip install git+https://github.com/greydanus/mnist1d"
   ]
  },
  {
   "cell_type": "code",
   "execution_count": 2,
   "metadata": {
    "id": "YrXWAH7sUWvU"
   },
   "outputs": [],
   "source": [
    "import numpy as np\n",
    "import os\n",
    "import torch, torch.nn as nn\n",
    "from torch.utils.data import TensorDataset, DataLoader\n",
    "from torch.optim.lr_scheduler import StepLR\n",
    "import matplotlib.pyplot as plt\n",
    "import mnist1d\n",
    "import random"
   ]
  },
  {
   "cell_type": "code",
   "execution_count": 3,
   "metadata": {
    "id": "twI72ZCrCt5z"
   },
   "outputs": [
    {
     "name": "stdout",
     "output_type": "stream",
     "text": [
      "Successfully loaded data from ./mnist1d_data.pkl\n",
      "Examples in training set: 4000\n",
      "Examples in test set: 1000\n",
      "Length of each example: 40\n"
     ]
    }
   ],
   "source": [
    "args = mnist1d.data.get_dataset_args()\n",
    "data = mnist1d.data.get_dataset(args, path='./mnist1d_data.pkl', download=False, regenerate=False)\n",
    "\n",
    "# The training and test input and outputs are in\n",
    "# data['x'], data['y'], data['x_test'], and data['y_test']\n",
    "print(\"Examples in training set: {}\".format(len(data['y'])))\n",
    "print(\"Examples in test set: {}\".format(len(data['y_test'])))\n",
    "print(\"Length of each example: {}\".format(data['x'].shape[-1]))"
   ]
  },
  {
   "cell_type": "code",
   "execution_count": 4,
   "metadata": {
    "id": "8bKADvLHbiV5"
   },
   "outputs": [
    {
     "name": "stdout",
     "output_type": "stream",
     "text": [
      "Train data: 4000 examples (columns), each of which has 40 dimensions (rows)\n",
      "Validation data: 1000 examples (columns), each of which has 40 dimensions (rows)\n"
     ]
    }
   ],
   "source": [
    "# Load in the data\n",
    "train_data_x = data['x'].transpose()\n",
    "train_data_y = data['y']\n",
    "val_data_x = data['x_test'].transpose()\n",
    "val_data_y = data['y_test']\n",
    "# Print out sizes\n",
    "print(\"Train data: %d examples (columns), each of which has %d dimensions (rows)\"%((train_data_x.shape[1],train_data_x.shape[0])))\n",
    "print(\"Validation data: %d examples (columns), each of which has %d dimensions (rows)\"%((val_data_x.shape[1],val_data_x.shape[0])))"
   ]
  },
  {
   "cell_type": "markdown",
   "metadata": {
    "id": "_sFvRDGrl4qe"
   },
   "source": [
    "Define the network"
   ]
  },
  {
   "cell_type": "code",
   "execution_count": 8,
   "metadata": {
    "id": "FslroPJJffrh"
   },
   "outputs": [],
   "source": [
    "# There are 40 input dimensions and 10 output dimensions for this data\n",
    "# The inputs correspond to the 40 offsets in the MNIST1D template.\n",
    "D_i = 40\n",
    "# The outputs correspond to the 10 digits\n",
    "D_o = 10\n",
    "\n",
    "\n",
    "# TODO Create a model with the following layers\n",
    "# 1. Convolutional layer, (input=length 40 and 1 channel, kernel size 3, stride 2, padding=\"valid\", 15 output channels )\n",
    "# 2. ReLU\n",
    "# 3. Convolutional layer, (input=length 19 and 15 channels, kernel size 3, stride 2, padding=\"valid\", 15 output channels )\n",
    "# 4. ReLU\n",
    "# 5. Convolutional layer, (input=length 9 and 15 channels, kernel size 3, stride 2, padding=\"valid\", 15 output channels)\n",
    "# 6. ReLU\n",
    "# 7. Flatten (converts 4x15) to length 60\n",
    "# 8. Linear layer (input size = 60, output size = 10)\n",
    "# References:\n",
    "# https://pytorch.org/docs/1.13/generated/torch.nn.Conv1d.html?highlight=conv1d#torch.nn.Conv1d\n",
    "# https://pytorch.org/docs/stable/generated/torch.nn.Flatten.html\n",
    "# https://pytorch.org/docs/1.13/generated/torch.nn.Linear.html?highlight=linear#torch.nn.Linear\n",
    "\n",
    "# NOTE THAT THE CONVOLUTIONAL LAYERS NEED TO TAKE THE NUMBER OF INPUT CHANNELS AS A PARAMETER\n",
    "# AND NOT THE INPUT SIZE.\n",
    "\n",
    "# Replace the following function:\n",
    "model = nn.Sequential(\n",
    "    nn.Conv1d(in_channels=1, out_channels=15, kernel_size=3, stride=2, padding=0),\n",
    "    nn.ReLU(),\n",
    "    nn.Conv1d(in_channels=15, out_channels=15, kernel_size=3, stride=2, padding=0),\n",
    "    nn.ReLU(),\n",
    "    nn.Conv1d(in_channels=15, out_channels=15, kernel_size=3, stride=2, padding=0),\n",
    "    nn.ReLU(),\n",
    "    nn.Flatten(),\n",
    "    nn.Linear(60, 10))\n",
    "\n",
    "\n",
    "\n"
   ]
  },
  {
   "cell_type": "code",
   "execution_count": 9,
   "metadata": {
    "id": "YgLaex1pfhqz"
   },
   "outputs": [],
   "source": [
    "# He initialization of weights\n",
    "def weights_init(layer_in):\n",
    "  if isinstance(layer_in, nn.Linear):\n",
    "    nn.init.kaiming_uniform_(layer_in.weight)\n",
    "    layer_in.bias.data.fill_(0.0)"
   ]
  },
  {
   "cell_type": "code",
   "execution_count": 10,
   "metadata": {
    "id": "NYw8I_3mmX5c"
   },
   "outputs": [
    {
     "name": "stdout",
     "output_type": "stream",
     "text": [
      "Epoch     0, train loss 2.050596, train error 78.60,  val loss 2.074439, percent error 79.50\n",
      "Epoch     1, train loss 1.498834, train error 60.20,  val loss 1.523574, percent error 62.10\n",
      "Epoch     2, train loss 1.403874, train error 55.70,  val loss 1.438768, percent error 59.50\n",
      "Epoch     3, train loss 1.295335, train error 54.03,  val loss 1.312950, percent error 57.90\n",
      "Epoch     4, train loss 1.185004, train error 49.65,  val loss 1.224165, percent error 52.70\n",
      "Epoch     5, train loss 1.128013, train error 46.15,  val loss 1.153743, percent error 49.90\n",
      "Epoch     6, train loss 1.022834, train error 41.40,  val loss 1.065838, percent error 45.50\n",
      "Epoch     7, train loss 1.066349, train error 42.80,  val loss 1.125148, percent error 47.70\n",
      "Epoch     8, train loss 0.920103, train error 36.28,  val loss 0.999512, percent error 39.70\n",
      "Epoch     9, train loss 0.898524, train error 34.68,  val loss 0.943494, percent error 37.10\n",
      "Epoch    10, train loss 0.743099, train error 28.93,  val loss 0.802729, percent error 30.90\n",
      "Epoch    11, train loss 0.736707, train error 28.43,  val loss 0.798014, percent error 30.30\n",
      "Epoch    12, train loss 0.609942, train error 22.95,  val loss 0.687586, percent error 26.60\n",
      "Epoch    13, train loss 0.659381, train error 25.30,  val loss 0.762254, percent error 28.30\n",
      "Epoch    14, train loss 0.561977, train error 20.97,  val loss 0.676288, percent error 24.10\n",
      "Epoch    15, train loss 0.484749, train error 16.70,  val loss 0.597071, percent error 22.00\n",
      "Epoch    16, train loss 0.429210, train error 15.05,  val loss 0.557535, percent error 19.20\n",
      "Epoch    17, train loss 0.422159, train error 15.20,  val loss 0.531146, percent error 19.50\n",
      "Epoch    18, train loss 0.381385, train error 14.47,  val loss 0.534191, percent error 18.00\n",
      "Epoch    19, train loss 0.605500, train error 21.05,  val loss 0.758696, percent error 24.20\n",
      "Epoch    20, train loss 0.280636, train error 9.57,  val loss 0.437959, percent error 14.30\n",
      "Epoch    21, train loss 0.262406, train error 9.07,  val loss 0.408501, percent error 12.30\n",
      "Epoch    22, train loss 0.229398, train error 7.62,  val loss 0.385274, percent error 12.30\n",
      "Epoch    23, train loss 0.216303, train error 6.93,  val loss 0.390922, percent error 13.70\n",
      "Epoch    24, train loss 0.212186, train error 7.18,  val loss 0.408123, percent error 13.80\n",
      "Epoch    25, train loss 0.222801, train error 7.68,  val loss 0.411601, percent error 13.00\n",
      "Epoch    26, train loss 0.217247, train error 7.18,  val loss 0.409546, percent error 12.40\n",
      "Epoch    27, train loss 0.203956, train error 6.90,  val loss 0.442653, percent error 13.90\n",
      "Epoch    28, train loss 0.161858, train error 5.07,  val loss 0.355469, percent error 10.10\n",
      "Epoch    29, train loss 0.149700, train error 4.55,  val loss 0.360177, percent error 10.90\n",
      "Epoch    30, train loss 0.143579, train error 4.62,  val loss 0.374338, percent error 11.40\n",
      "Epoch    31, train loss 0.160247, train error 5.25,  val loss 0.370499, percent error 11.30\n",
      "Epoch    32, train loss 0.164856, train error 5.90,  val loss 0.411423, percent error 11.80\n",
      "Epoch    33, train loss 0.165657, train error 5.97,  val loss 0.405784, percent error 12.90\n",
      "Epoch    34, train loss 0.134835, train error 4.50,  val loss 0.405190, percent error 11.70\n",
      "Epoch    35, train loss 0.137160, train error 4.75,  val loss 0.392950, percent error 11.10\n",
      "Epoch    36, train loss 0.138620, train error 4.75,  val loss 0.404646, percent error 11.90\n",
      "Epoch    37, train loss 0.106273, train error 3.45,  val loss 0.371808, percent error 10.90\n",
      "Epoch    38, train loss 0.147834, train error 5.32,  val loss 0.422536, percent error 11.30\n",
      "Epoch    39, train loss 0.127606, train error 4.25,  val loss 0.397967, percent error 10.80\n",
      "Epoch    40, train loss 0.100965, train error 3.15,  val loss 0.386618, percent error 10.20\n",
      "Epoch    41, train loss 0.085926, train error 2.28,  val loss 0.374656, percent error 10.30\n",
      "Epoch    42, train loss 0.085044, train error 2.60,  val loss 0.388138, percent error 10.70\n",
      "Epoch    43, train loss 0.090271, train error 2.70,  val loss 0.387704, percent error 10.10\n",
      "Epoch    44, train loss 0.079651, train error 2.15,  val loss 0.392332, percent error 10.40\n",
      "Epoch    45, train loss 0.078065, train error 2.20,  val loss 0.384875, percent error 10.70\n",
      "Epoch    46, train loss 0.072999, train error 1.85,  val loss 0.385800, percent error 10.80\n",
      "Epoch    47, train loss 0.077630, train error 2.30,  val loss 0.409769, percent error 10.40\n",
      "Epoch    48, train loss 0.071116, train error 1.62,  val loss 0.393351, percent error 10.20\n",
      "Epoch    49, train loss 0.107439, train error 3.72,  val loss 0.430079, percent error 11.60\n",
      "Epoch    50, train loss 0.071250, train error 1.97,  val loss 0.399004, percent error 10.40\n",
      "Epoch    51, train loss 0.073497, train error 2.00,  val loss 0.413630, percent error 10.00\n",
      "Epoch    52, train loss 0.089292, train error 3.22,  val loss 0.449755, percent error 10.50\n",
      "Epoch    53, train loss 0.064760, train error 1.55,  val loss 0.396471, percent error 10.40\n",
      "Epoch    54, train loss 0.060111, train error 1.53,  val loss 0.399214, percent error 11.10\n",
      "Epoch    55, train loss 0.059069, train error 1.43,  val loss 0.406870, percent error 10.20\n",
      "Epoch    56, train loss 0.060988, train error 1.55,  val loss 0.414928, percent error 10.60\n",
      "Epoch    57, train loss 0.056088, train error 1.32,  val loss 0.412523, percent error 10.50\n",
      "Epoch    58, train loss 0.056242, train error 1.45,  val loss 0.408107, percent error 11.00\n",
      "Epoch    59, train loss 0.056126, train error 1.30,  val loss 0.419491, percent error 10.30\n",
      "Epoch    60, train loss 0.060531, train error 1.60,  val loss 0.426668, percent error 10.50\n",
      "Epoch    61, train loss 0.050896, train error 1.15,  val loss 0.419681, percent error 10.50\n",
      "Epoch    62, train loss 0.050134, train error 1.32,  val loss 0.426041, percent error 10.50\n",
      "Epoch    63, train loss 0.049623, train error 1.10,  val loss 0.424458, percent error 10.30\n",
      "Epoch    64, train loss 0.049260, train error 1.05,  val loss 0.427438, percent error 10.70\n",
      "Epoch    65, train loss 0.048224, train error 1.00,  val loss 0.427684, percent error 10.10\n",
      "Epoch    66, train loss 0.048558, train error 1.10,  val loss 0.425732, percent error 10.00\n",
      "Epoch    67, train loss 0.046368, train error 0.95,  val loss 0.433588, percent error 10.30\n",
      "Epoch    68, train loss 0.046204, train error 0.95,  val loss 0.434073, percent error 10.30\n",
      "Epoch    69, train loss 0.046178, train error 0.88,  val loss 0.438370, percent error 9.80\n",
      "Epoch    70, train loss 0.044308, train error 0.85,  val loss 0.431361, percent error 10.30\n",
      "Epoch    71, train loss 0.045489, train error 1.00,  val loss 0.440356, percent error 10.20\n",
      "Epoch    72, train loss 0.043996, train error 1.03,  val loss 0.442602, percent error 10.60\n",
      "Epoch    73, train loss 0.048134, train error 1.15,  val loss 0.441995, percent error 10.80\n",
      "Epoch    74, train loss 0.042775, train error 0.85,  val loss 0.448056, percent error 10.50\n",
      "Epoch    75, train loss 0.042895, train error 0.85,  val loss 0.450810, percent error 10.80\n",
      "Epoch    76, train loss 0.042619, train error 0.97,  val loss 0.449706, percent error 9.90\n",
      "Epoch    77, train loss 0.045955, train error 1.20,  val loss 0.449620, percent error 10.90\n",
      "Epoch    78, train loss 0.041918, train error 1.00,  val loss 0.452210, percent error 10.30\n",
      "Epoch    79, train loss 0.040563, train error 0.85,  val loss 0.444676, percent error 10.40\n",
      "Epoch    80, train loss 0.039061, train error 0.70,  val loss 0.449274, percent error 10.50\n",
      "Epoch    81, train loss 0.038984, train error 0.80,  val loss 0.448695, percent error 10.30\n",
      "Epoch    82, train loss 0.038828, train error 0.72,  val loss 0.454102, percent error 10.60\n",
      "Epoch    83, train loss 0.038218, train error 0.62,  val loss 0.451834, percent error 10.50\n",
      "Epoch    84, train loss 0.038218, train error 0.60,  val loss 0.454468, percent error 10.60\n",
      "Epoch    85, train loss 0.038502, train error 0.72,  val loss 0.454359, percent error 10.10\n",
      "Epoch    86, train loss 0.037994, train error 0.70,  val loss 0.456277, percent error 10.40\n",
      "Epoch    87, train loss 0.037379, train error 0.62,  val loss 0.452376, percent error 10.30\n",
      "Epoch    88, train loss 0.037210, train error 0.60,  val loss 0.456118, percent error 10.90\n",
      "Epoch    89, train loss 0.036890, train error 0.62,  val loss 0.459711, percent error 10.60\n",
      "Epoch    90, train loss 0.036841, train error 0.65,  val loss 0.455734, percent error 10.50\n",
      "Epoch    91, train loss 0.036413, train error 0.60,  val loss 0.457638, percent error 10.50\n",
      "Epoch    92, train loss 0.036311, train error 0.62,  val loss 0.460260, percent error 10.30\n",
      "Epoch    93, train loss 0.036019, train error 0.60,  val loss 0.461167, percent error 10.30\n",
      "Epoch    94, train loss 0.035971, train error 0.60,  val loss 0.458313, percent error 10.20\n",
      "Epoch    95, train loss 0.035312, train error 0.57,  val loss 0.461087, percent error 10.60\n",
      "Epoch    96, train loss 0.035300, train error 0.60,  val loss 0.463005, percent error 10.80\n",
      "Epoch    97, train loss 0.035124, train error 0.60,  val loss 0.463700, percent error 10.40\n",
      "Epoch    98, train loss 0.034771, train error 0.55,  val loss 0.464756, percent error 10.40\n",
      "Epoch    99, train loss 0.035544, train error 0.62,  val loss 0.461667, percent error 10.60\n"
     ]
    },
    {
     "data": {
      "image/png": "[encoded data removed]",
      "text/plain": [
       "<Figure size 640x480 with 1 Axes>"
      ]
     },
     "metadata": {},
     "output_type": "display_data"
    }
   ],
   "source": [
    "# choose cross entropy loss function (equation 5.24 in the loss notes)\n",
    "loss_function = nn.CrossEntropyLoss()\n",
    "# construct SGD optimizer and initialize learning rate and momentum\n",
    "optimizer = torch.optim.SGD(model.parameters(), lr = 0.05, momentum=0.9)\n",
    "# object that decreases learning rate by half every 20 epochs\n",
    "scheduler = StepLR(optimizer, step_size=20, gamma=0.5)\n",
    "# create 100 dummy data points and store in data loader class\n",
    "x_train = torch.tensor(train_data_x.transpose().astype('float32'))\n",
    "y_train = torch.tensor(train_data_y.astype('long')).long()\n",
    "x_val= torch.tensor(val_data_x.transpose().astype('float32'))\n",
    "y_val = torch.tensor(val_data_y.astype('long')).long()\n",
    "\n",
    "# load the data into a class that creates the batches\n",
    "data_loader = DataLoader(TensorDataset(x_train,y_train), batch_size=100, shuffle=True, worker_init_fn=np.random.seed(1))\n",
    "\n",
    "# Initialize model weights\n",
    "model.apply(weights_init)\n",
    "\n",
    "# loop over the dataset n_epoch times\n",
    "n_epoch = 100\n",
    "# store the loss and the % correct at each epoch\n",
    "losses_train = np.zeros((n_epoch))\n",
    "errors_train = np.zeros((n_epoch))\n",
    "losses_val = np.zeros((n_epoch))\n",
    "errors_val = np.zeros((n_epoch))\n",
    "\n",
    "for epoch in range(n_epoch):\n",
    "  # loop over batches\n",
    "  for i, data in enumerate(data_loader):\n",
    "    # retrieve inputs and labels for this batch\n",
    "    x_batch, y_batch = data\n",
    "    # zero the parameter gradients\n",
    "    optimizer.zero_grad()\n",
    "    # forward pass -- calculate model output\n",
    "    pred = model(x_batch[:,None,:])\n",
    "    # compute the loss\n",
    "    loss = loss_function(pred, y_batch)\n",
    "    # backward pass\n",
    "    loss.backward()\n",
    "    # SGD update\n",
    "    optimizer.step()\n",
    "\n",
    "  # Run whole dataset to get statistics -- normally wouldn't do this\n",
    "  pred_train = model(x_train[:,None,:])\n",
    "  pred_val = model(x_val[:,None,:])\n",
    "  _, predicted_train_class = torch.max(pred_train.data, 1)\n",
    "  _, predicted_val_class = torch.max(pred_val.data, 1)\n",
    "  errors_train[epoch] = 100 - 100 * (predicted_train_class == y_train).float().sum() / len(y_train)\n",
    "  errors_val[epoch]= 100 - 100 * (predicted_val_class == y_val).float().sum() / len(y_val)\n",
    "  losses_train[epoch] = loss_function(pred_train, y_train).item()\n",
    "  losses_val[epoch]= loss_function(pred_val, y_val).item()\n",
    "  print(f'Epoch {epoch:5d}, train loss {losses_train[epoch]:.6f}, train error {errors_train[epoch]:3.2f},  val loss {losses_val[epoch]:.6f}, percent error {errors_val[epoch]:3.2f}')\n",
    "\n",
    "  # tell scheduler to consider updating learning rate\n",
    "  scheduler.step()\n",
    "\n",
    "# Plot the results\n",
    "fig, ax = plt.subplots()\n",
    "ax.plot(errors_train,'r-',label='train')\n",
    "ax.plot(errors_val,'b-',label='validation')\n",
    "ax.set_ylim(0,100); ax.set_xlim(0,n_epoch)\n",
    "ax.set_xlabel('Epoch'); ax.set_ylabel('Error')\n",
    "ax.set_title('Part I: Validation Result %3.2f'%(errors_val[-1]))\n",
    "ax.legend()\n",
    "plt.show()"
   ]
  }
 ],
 "metadata": {
  "colab": {
   "authorship_tag": "ABX9TyNb46PJB/CC1pcHGfjpUUZg",
   "include_colab_link": true,
   "provenance": []
  },
  "kernelspec": {
   "display_name": "Python 3",
   "name": "python3"
  },
  "language_info": {
   "codemirror_mode": {
    "name": "ipython",
    "version": 3
   },
   "file_extension": ".py",
   "mimetype": "text/x-python",
   "name": "python",
   "nbconvert_exporter": "python",
   "pygments_lexer": "ipython3",
   "version": "3.12.4"
  }
 },
 "nbformat": 4,
 "nbformat_minor": 0
}
